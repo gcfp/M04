{
 "cells": [
  {
   "cell_type": "code",
   "execution_count": 7,
   "metadata": {},
   "outputs": [
    {
     "name": "stdout",
     "output_type": "stream",
     "text": [
      "EXCLUSIVA GAME\n",
      "Tiendas\n",
      "GAME\n",
      "\n",
      "\n",
      "\n"
     ]
    },
    {
     "data": {
      "text/plain": [
       "<pymongo.results.InsertOneResult at 0x28895923380>"
      ]
     },
     "execution_count": 7,
     "metadata": {},
     "output_type": "execute_result"
    }
   ],
   "source": [
    "from selenium import webdriver\n",
    "from selenium.webdriver.common.keys import Keys\n",
    "from selenium.webdriver.common.by import By\n",
    "import pymongo\n",
    "from pymongo import MongoClient\n",
    "\n",
    "driver = webdriver.Chrome()\n",
    "driver.get('https://www.game.es/')\n",
    "#1. Extreu dades de 3 elements HTML diferents (ex. p, a, href, etc...)\n",
    "def get_data(url, tag_name):\n",
    "    driver.get(url)\n",
    "    return driver.find_element(By.TAG_NAME, tag_name).text\n",
    "link1 = 'https://www.game.es/'\n",
    "p = get_data(link1, 'p')\n",
    "print(p)\n",
    "a = get_data(link1, 'a')\n",
    "print(a)\n",
    "h1 = get_data(link1, 'h1')\n",
    "print(h1)\n",
    "\n",
    "#2. Emmagatzema les dades en una base de dades MongoDB\n",
    "client = MongoClient('localhost', 27017)\n",
    "db = client['game']\n",
    "collection = db['game']\n",
    "collection.insert_one({'p': p, 'a': a, 'h1': h1})\n",
    "\n",
    "#3. Navega per la web. Canvia de pàgina i extreu dades d'una altra a la qual hagis navegat.\n",
    "link2 = 'https://www.campus.bernatelferrer.cat/'\n",
    "p = get_data(link2, 'p')\n",
    "print(p)\n",
    "div = get_data(link2, 'div')\n",
    "print(div)\n",
    "head = get_data(link2, 'head')\n",
    "print(head)\n",
    "\n",
    "#4. Emmagatzema les dades en una base de dades MongoDB\n",
    "db = client['campus']\n",
    "collection = db['campus']\n",
    "collection.insert_one({'p': p, 'div ': div, 'head': head})"
   ]
  }
 ],
 "metadata": {
  "kernelspec": {
   "display_name": "base",
   "language": "python",
   "name": "python3"
  },
  "language_info": {
   "codemirror_mode": {
    "name": "ipython",
    "version": 3
   },
   "file_extension": ".py",
   "mimetype": "text/x-python",
   "name": "python",
   "nbconvert_exporter": "python",
   "pygments_lexer": "ipython3",
   "version": "3.9.13"
  },
  "orig_nbformat": 4,
  "vscode": {
   "interpreter": {
    "hash": "48ed48f5542fe07e8f725768fb6d295eb9c66c05001f1d4e389bf0879d8b38cd"
   }
  }
 },
 "nbformat": 4,
 "nbformat_minor": 2
}
