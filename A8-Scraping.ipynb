{
 "cells": [
  {
   "cell_type": "code",
   "execution_count": 12,
   "metadata": {},
   "outputs": [],
   "source": [
    "from selenium import webdriver\n",
    "from selenium.webdriver.common.keys import Keys\n",
    "from selenium.webdriver.common.by import By\n",
    "import pymongo\n",
    "from pymongo import MongoClient\n",
    "\n",
    "class Scraper:\n",
    "    def __init__(self):\n",
    "        self.driver = webdriver.Chrome()\n",
    "        self.client = MongoClient('localhost', 27017)\n",
    "        self.db = self.client['WebScraping']\n",
    "    \n",
    "    def create_collection(self, collection_name):\n",
    "        self.collection = self.db[collection_name]\n",
    "\n",
    "    def set_url(self, url):\n",
    "        self.driver.get(url)\n",
    "\n",
    "    def get_data(self, tag_name):\n",
    "        return self.driver.find_element(By.TAG_NAME, tag_name).text\n",
    "\n",
    "    def insert_data(self, name, data):\n",
    "        self.collection.insert_one({name : data})\n",
    "\n",
    "    def click(self, name):\n",
    "        self.driver.find_element_by_link_text(name).click()\n",
    "\n",
    "    def close(self):\n",
    "        self.driver.close()\n",
    "\n",
    "scraper = Scraper()\n",
    "scraper.create_collection('GeeksforGeeks')\n",
    "scraper.set_url('https://www.geeksforgeeks.org/')\n",
    "scraper.insert_data('Botones', scraper.get_data('button'))\n",
    "scraper.insert_data('Links', scraper.get_data('a'))\n",
    "scraper.insert_data('Divs', scraper.get_data('div'))\n",
    "scraper.click('Data Structures and Algorithms')\n",
    "scraper.insert_data('Botones', scraper.get_data('button'))\n",
    "scraper.insert_data('Links', scraper.get_data('a'))\n",
    "scraper.insert_data('Divs', scraper.get_data('div'))\n",
    "scraper.close()\n"
   ]
  }
 ],
 "metadata": {
  "kernelspec": {
   "display_name": "base",
   "language": "python",
   "name": "python3"
  },
  "language_info": {
   "codemirror_mode": {
    "name": "ipython",
    "version": 3
   },
   "file_extension": ".py",
   "mimetype": "text/x-python",
   "name": "python",
   "nbconvert_exporter": "python",
   "pygments_lexer": "ipython3",
   "version": "3.9.13"
  },
  "orig_nbformat": 4,
  "vscode": {
   "interpreter": {
    "hash": "48ed48f5542fe07e8f725768fb6d295eb9c66c05001f1d4e389bf0879d8b38cd"
   }
  }
 },
 "nbformat": 4,
 "nbformat_minor": 2
}
